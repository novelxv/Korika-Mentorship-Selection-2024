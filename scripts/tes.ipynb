{
 "cells": [
  {
   "cell_type": "code",
   "execution_count": 1,
   "metadata": {},
   "outputs": [],
   "source": [
    "import pandas as pd\n",
    "import numpy as np"
   ]
  },
  {
   "cell_type": "code",
   "execution_count": 2,
   "metadata": {},
   "outputs": [],
   "source": [
    "# Read the data\n",
    "df = pd.read_csv('../data/data.csv')"
   ]
  },
  {
   "cell_type": "code",
   "execution_count": 9,
   "metadata": {},
   "outputs": [
    {
     "name": "stdout",
     "output_type": "stream",
     "text": [
      "0 -4.2453\n"
     ]
    },
    {
     "name": "stderr",
     "output_type": "stream",
     "text": [
      "C:\\Users\\Lenovo\\AppData\\Local\\Temp\\ipykernel_21332\\2725939858.py:93: RuntimeWarning: invalid value encountered in divide\n",
      "  float_covariance[cluster_index] = float_data_block.T @ float_data_block / float_data_block.shape[0]\n",
      "c:\\Users\\Lenovo\\AppData\\Local\\Programs\\Python\\Python310\\lib\\site-packages\\numpy\\linalg\\linalg.py:2154: RuntimeWarning: invalid value encountered in det\n",
      "  r = _umath_linalg.det(a, signature=signature)\n"
     ]
    },
    {
     "name": "stdout",
     "output_type": "stream",
     "text": [
      "1 nan\n",
      "2 nan\n",
      "3 nan\n",
      "4 nan\n",
      "5 nan\n",
      "6 nan\n",
      "7 nan\n",
      "8 nan\n",
      "9 nan\n",
      "10 nan\n",
      "11 nan\n",
      "12 nan\n",
      "13 nan\n",
      "14 nan\n",
      "15 nan\n",
      "16 nan\n",
      "17 nan\n",
      "18 nan\n",
      "19 nan\n"
     ]
    }
   ],
   "source": [
    "features_float = df.loc[:, 'f_22':'f_28'].values\n",
    "\n",
    "# Power transform integer variables to make them look more 'normal'\n",
    "power = 0.47  # Best value\n",
    "features_int_transformed = ((1 + df.loc[:, 'f_07':'f_13'])**power - 1) / power\n",
    "\n",
    "# Initialize a 3D array with varying dimensions\n",
    "num_clusters = 7 * 6\n",
    "int_covariance = np.zeros((num_clusters, 7, 7), dtype=np.float32)\n",
    "\n",
    "# Set diagonal elements to 1 for each 2D subarray\n",
    "for i in range(num_clusters):\n",
    "    np.fill_diagonal(int_covariance[i], 1.0)\n",
    "\n",
    "# Similarly, for float_covariance\n",
    "float_covariance = np.zeros((num_clusters, 5, 5), dtype=np.float32)\n",
    "for i in range(num_clusters):\n",
    "    np.fill_diagonal(float_covariance[i], 1.0)\n",
    "\n",
    "float_means_hardcoded = np.array([\n",
    "    [1, -1, -1, -1, -1],\n",
    "    [1, -1, 1, 1, -1],\n",
    "    [-1, 1, 1, -1, 1],\n",
    "    [-1, -1, -1, -1, -1],\n",
    "    [1, -1, -1, -1, -1],\n",
    "    [-1, 1, -1, -1, -1],\n",
    "    [-1, -1, 1, 1, -1],\n",
    "    [-1, -1, -1, 1, -1],\n",
    "    [1, -1, 1, 1, -1],\n",
    "    [-1, -1, -1, -1, -1],\n",
    "    [1, -1, 1, 1, -1],\n",
    "    [-1, -1, 1, 1, -1],\n",
    "    [1, 1, -1, -1, -1],\n",
    "    [1, 1, 1, 1, 1],\n",
    "    [-1, -1, -1, -1, -1]\n",
    "], dtype=np.float32).reshape(-1, 5)\n",
    "\n",
    "int_means = 3.33 * np.ones((num_clusters, 7), dtype=np.float32)  # (num_clusters, 7) mean of integer variables - initialized to mean of all integer variables\n",
    "\n",
    "uncorrelated_var_indices = np.array([\n",
    "    [0, 1],\n",
    "    [3, 4],\n",
    "    [0, 5],\n",
    "    [1, 5],\n",
    "    [2, 5],\n",
    "    [4, 5],\n",
    "    [4, 6]\n",
    "], dtype=int)  # For 7 cluster groups, indices of 2 variables that are uncorrelated with the rest\n",
    "predicted_probabilities = np.zeros((features_float.shape[0], num_clusters), dtype=np.float32)  # Predicted probability of each point for each cluster\n",
    "\n",
    "# Custom EM loop\n",
    "for iteration in range(20):  # 20 iterations are enough to converge\n",
    "    # 1. Expectation\n",
    "    for cluster_index in range(num_clusters):  # 42 clusters\n",
    "        # Integer variables\n",
    "        int_cov = int_covariance[cluster_index]\n",
    "        int_mean = int_means[cluster_index]\n",
    "        int_difference = features_int_transformed - int_mean.reshape(1, -1)\n",
    "        p1 = np.exp(-0.5 * np.sum((int_difference @ np.linalg.inv(int_cov)) * int_difference, axis=1)) / np.sqrt(np.linalg.det(int_cov))\n",
    "        \n",
    "        # Float variables part 1 - 5 correlated variables\n",
    "        float_cov = float_covariance[cluster_index]\n",
    "        float_mean = float_means_hardcoded[cluster_index % len(float_means_hardcoded)]\n",
    "        non_correlated_var_indices = uncorrelated_var_indices[cluster_index // 6]  # Indices of 2 variables that are uncorrelated with the rest\n",
    "        correlated_var_indices = list(set(range(7)) - set(non_correlated_var_indices))  # Indices of 5 variables that are correlated with each other\n",
    "        features_float_part1 = features_float[:, correlated_var_indices]\n",
    "        float_difference_part1 = features_float_part1 - float_mean.reshape(1, -1)\n",
    "        p2 = np.exp(-0.5 * np.sum((float_difference_part1 @ np.linalg.inv(float_cov)) * float_difference_part1, axis=1)) / np.sqrt(np.linalg.det(float_cov))\n",
    "        \n",
    "        # Float variables part 2 - 2 uncorrelated variables with 0 mean and 1 std\n",
    "        features_float_part2 = features_float[:, non_correlated_var_indices]\n",
    "        p3 = np.exp(-0.5 * np.sum(features_float_part2 * features_float_part2, axis=1))\n",
    "        \n",
    "        predicted_probabilities[:, cluster_index] = p1 * p2 * p3  # Final probability is the product of 3 pieces\n",
    "    \n",
    "    cluster_assignments = predicted_probabilities.argmax(axis=1)\n",
    "    log_prob = np.log(predicted_probabilities.max(axis=1)).mean()  # Log prob - to track convergence\n",
    "    print(iteration, np.round(log_prob, 4))\n",
    "\n",
    "    # 2. Maximization\n",
    "    for group_index in range(7):  # Integer variables - 7 cluster groups\n",
    "        int_data_block = features_int_transformed[(cluster_assignments // 6) == group_index]  # Points for this cluster block only\n",
    "        int_means[group_index * 6:(group_index + 1) * 6] = int_data_block.mean(axis=0)  # Integer mean is the same for all subclusters\n",
    "        int_data_block = int_data_block - int_means[group_index * 6]\n",
    "        int_covariance[group_index * 6:(group_index + 1) * 6] = int_data_block.T @ int_data_block / int_data_block.shape[0]  # Integer covariance is the same for all subclusters\n",
    "        int_covariance[group_index * 6:(group_index + 1) * 6][np.abs(int_covariance[group_index * 6:(group_index + 1) * 6]) < 0.01] = 0.0  # Set covariance to 0 if it is close to zero (< 0.01)\n",
    "    \n",
    "    for cluster_index in range(num_clusters):  # Float variables - 42 clusters\n",
    "        non_correlated_var_indices = uncorrelated_var_indices[cluster_index // 6]  # Indices of 2 variables that are uncorrelated with the rest\n",
    "        correlated_var_indices = list(set(range(7)) - set(non_correlated_var_indices))  # Indices of 5 variables that are correlated with each other\n",
    "        float_data_block = features_float[cluster_assignments == cluster_index]  # Points for this cluster only\n",
    "        float_data_block = float_data_block[:, correlated_var_indices] - float_means_hardcoded[cluster_index % len(float_means_hardcoded)]\n",
    "        float_covariance[cluster_index] = float_data_block.T @ float_data_block / float_data_block.shape[0]\n",
    "\n",
    "# Submission\n",
    "submission_df = pd.read_csv('../data/sample_submission.csv')\n",
    "submission_df['Predicted'] = cluster_assignments // 6\n",
    "submission_df.to_csv('submission.csv', index=False)"
   ]
  },
  {
   "cell_type": "code",
   "execution_count": null,
   "metadata": {},
   "outputs": [],
   "source": []
  }
 ],
 "metadata": {
  "kernelspec": {
   "display_name": "Python 3",
   "language": "python",
   "name": "python3"
  },
  "language_info": {
   "codemirror_mode": {
    "name": "ipython",
    "version": 3
   },
   "file_extension": ".py",
   "mimetype": "text/x-python",
   "name": "python",
   "nbconvert_exporter": "python",
   "pygments_lexer": "ipython3",
   "version": "3.10.6"
  }
 },
 "nbformat": 4,
 "nbformat_minor": 2
}
